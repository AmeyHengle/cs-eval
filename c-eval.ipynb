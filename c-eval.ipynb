{
 "cells": [
  {
   "cell_type": "code",
   "execution_count": 16,
   "metadata": {},
   "outputs": [],
   "source": [
    "import pandas as pd\n",
    "from tqdm import tqdm\n",
    "from utils import extract_score, extract_content_from_response, postprocess_llm_response\n",
    "from generate import predict\n",
    "\n",
    "tqdm.pandas()"
   ]
  },
  {
   "cell_type": "code",
   "execution_count": 17,
   "metadata": {},
   "outputs": [],
   "source": [
    "# prompt templates\n",
    "\n",
    "common_input_prompt = lambda hs, cs: f\"\"\"\n",
    "Hate Speech: \"{hs}\"\\nCounterspeech: \"{cs}\"\n",
    "\"\"\".strip()\n",
    "\n",
    "instruction_prompt = f\"\"\"\n",
    "You will be given one counterspeech (also called as counter-argument or counter-narrative) written for a hateful statement (hate speech). Your\n",
    "task is to rate the counterspeech on one metric. Please make sure you read and understand these instructions carefully.\n",
    "\"\"\".strip()\n",
    "\n",
    "evaluation_criteria_relevance = f\"\"\"\n",
    "Contextual Relevance (1-5) - This dimension evaluates whether the counterspeech addresses the central topic, theme subject of the given hate\n",
    "speech.\n",
    "\"\"\".strip()\n",
    "\n",
    "evaluation_criteria_aggressiveness = f\"\"\"\n",
    "Aggressiveness (1-5) - This metric assesses the degree of confrontational or inflammatory content in the counterspeech. It considers factors such\n",
    "as abusive language, intensity of disagreement, tone, engagement style, and the presence of personal attacks, with higher scores indicating\n",
    "greater aggression.\n",
    "\"\"\".strip()\n",
    "\n",
    "evaluation_criteria_coherence = f\"\"\"\n",
    "Argument Coherence (1-5) - This metric assesses how logically and smoothly the ideas or arguments within the counterspeech connect and\n",
    "flow. A coherent counterspeech will present its arguments in an organized manner, making it easy for the reader to follow and understand the\n",
    "counter-narrative being presented.\n",
    "\"\"\".strip()\n",
    "\n",
    "evaluation_criteria_suitableness = f\"\"\"\n",
    "Suitableness (1-3) - This metric measures the likelihood of an annotator choosing a given counterspeech for direct use (without editing) in a\n",
    "real scenario against online hate speech. This assessment considers the counterspeech's suitability, appropriateness, and potential impact on a\n",
    "reader in a real-world context.\n",
    "\"\"\".strip()\n",
    "\n",
    "# ----------------------------------------------------------------------- #\n",
    "\n",
    "relevance_score_prompt_zs = f\"\"\"\n",
    "{instruction_prompt}\n",
    "\n",
    "Evaluation Criteria:\n",
    "{evaluation_criteria_relevance}\n",
    "\n",
    "Ensure that the response is STRICTLY in JSON format as {{\"Relevance\": \"\"}}\n",
    "\"\"\".strip()\n",
    "\n",
    "coherence_score_prompt_zs = f\"\"\"\n",
    "{instruction_prompt}\n",
    "\n",
    "Evaluation Criteria:\n",
    "{evaluation_criteria_coherence}\n",
    "\n",
    "Ensure that the response is STRICTLY in JSON format as {{\"Argument Coherence\": \"\"}}.\n",
    "\"\"\".strip()\n",
    "\n",
    "suitableness_score_prompt_zs = f\"\"\"\n",
    "{instruction_prompt}\n",
    "\n",
    "Evaluation Criteria:\n",
    "{evaluation_criteria_suitableness}\n",
    "\n",
    "Ensure that the response is STRICTLY in JSON format as {{\"Suitableness\": \"\"}}.\n",
    "\"\"\".strip()\n",
    "\n",
    "aggressiveness_score_prompt_zs = f\"\"\"\n",
    "{instruction_prompt}\n",
    "\n",
    "Evaluation Criteria:\n",
    "{evaluation_criteria_aggressiveness}\n",
    "\n",
    "Ensure that the response is STRICTLY in JSON format as {{\"Aggressiveness\": \"\"}}.\n",
    "\"\"\".strip()\n",
    "\n",
    "# ----------------------------------------------------------------------- #\n",
    "\n",
    "relevance_score_prompt_cot = lambda evaluation_steps : f\"\"\"\n",
    "{instruction_prompt}\n",
    "\n",
    "Evaluation Criteria:\n",
    "{evaluation_criteria_relevance}\n",
    "\n",
    "Evaluation Steps:\n",
    "{evaluation_steps}\n",
    "\n",
    "Ensure that the response is STRICTLY in JSON format as {{\"Relevance\": \"\"}}\n",
    "\"\"\".strip()\n",
    "\n",
    "coherence_score_prompt_cot = lambda evaluation_steps : f\"\"\"\n",
    "{instruction_prompt}\n",
    "\n",
    "Evaluation Criteria:\n",
    "{evaluation_criteria_coherence}\n",
    "\n",
    "Evaluation Steps:\n",
    "{evaluation_steps}\n",
    "\n",
    "Ensure that the response is STRICTLY in JSON format as {{\"Argument Coherence\": \"\"}}.\n",
    "\"\"\".strip()\n",
    "\n",
    "suitableness_score_prompt_cot = lambda evaluation_steps : f\"\"\"\n",
    "{instruction_prompt}\n",
    "\n",
    "Evaluation Criteria:\n",
    "{evaluation_criteria_suitableness}\n",
    "\n",
    "Evaluation Steps:\n",
    "{evaluation_steps}\n",
    "\n",
    "Ensure that the response is STRICTLY in JSON format as {{\"Suitableness\": \"\"}}.\n",
    "\"\"\".strip()\n",
    "\n",
    "aggressiveness_score_prompt_cot = lambda evaluation_steps : f\"\"\"\n",
    "{instruction_prompt}\n",
    "\n",
    "Evaluation Criteria:\n",
    "{evaluation_criteria_aggressiveness}\n",
    "\n",
    "Evaluation Steps:\n",
    "{evaluation_steps}\n",
    "\n",
    "Ensure that the response is STRICTLY in JSON format as {{\"Aggressiveness\": \"\"}}.\n",
    "\"\"\".strip()\n",
    "\n",
    "# ----------------------------------------------------------------------- #\n",
    "\n",
    "cot_gen_few_shot_tempate = lambda aspect, hs1, cs1, r1, hs2, cs2, r2, hs3, cs3, r3: f\"\"\"\n",
    "Hatespeech: {hs1}\n",
    "Counterspeech: {cs1}\n",
    "Expert Rating ({aspect}): {r1}\n",
    "\n",
    "Hatespeech: {hs2}\n",
    "Counterspeech: {cs2}\n",
    "Expert Rating ({aspect}): {r2}\n",
    "\n",
    "Hatespeech: {hs3}\n",
    "Counterspeech: {cs3}\n",
    "Expert Rating ({aspect}): {r3}\n",
    "\"\"\".strip()\n",
    "\n",
    "candidate_cot_drafting_template = lambda aspect, evaluation_criteria, few_shot_examples : f\"\"\"\n",
    "You will be given sets of in-context examples, each containing a hate speech, a corresponding\n",
    "counterspeech, and an {aspect} rated by a human expert. Your task is to generate a suitable set\n",
    "of Evaluation Steps based on the analysis of these examples. Please make sure you read and\n",
    "understand these instructions carefully.\n",
    "\n",
    "## Examples:\n",
    "{few_shot_examples}\n",
    "\n",
    "## Instruction:\n",
    "Analyze the examples below to identify patterns and factors that influence the {aspect} rating.\n",
    "Then, create a detailed set of steps outlining how to evaluate the {aspect} of counterspeeches.\n",
    "\n",
    "## Evaluation Criteria for {aspect}:\n",
    "{evaluation_criteria}\n",
    "\n",
    "\"\"\".strip()\n",
    "\n",
    "# aspect = \"Aggressiveness\"\n",
    "# few_shot_examples = cot_gen_few_shot_tempate(aspect,\"hs1\", \"cs1\", \"r1\", \"hs2\", \"cs2\", \"r2\", \"hs3\", \"cs3\", \"r3\")\n",
    "# prompt = candidate_cot_drafting_template(aspect, evaluation_criteria_aggressiveness, few_shot_examples)\n",
    "# print(prompt)\n",
    "\n",
    "# ----------------------------------------------------------------------- #\n",
    "\n",
    "cot_error_few_shot_tempate = lambda aspect, hs1, cs1, r1, p1, hs2, cs2, r2, p2, hs3, cs3, r3, p3: f\"\"\"\n",
    "Hatespeech: {hs1}\n",
    "Counterspeech: {cs1}\n",
    "Actual Rating ({aspect}): {r1}\n",
    "Predicted Rating ({aspect}): {p1}\n",
    "\n",
    "Hatespeech: {hs2}\n",
    "Counterspeech: {cs2}\n",
    "Actual Rating ({aspect}): {r2}\n",
    "Predicted Rating ({aspect}): {p2}\n",
    "\n",
    "Hatespeech: {hs3}\n",
    "Counterspeech: {cs3}\n",
    "Actual Rating ({aspect}): {r3}\n",
    "Predicted Rating ({aspect}): {p3}\n",
    "\n",
    "\"\"\".strip()\n",
    "\n",
    "candidate_cot_refinement_template = lambda aspect, candidate_cot, few_shot_examples: f\"\"\"\n",
    "Please refine and improve the chain-of-thought (CoT) evaluation steps used by a large language model in evaluating {aspect} of counterspeech\n",
    "generation.\n",
    "\n",
    "Large language models (LLMs) are powerful neural models that can evaluate the quality of counterspeech generation. However, LLMs may not\n",
    "always agree with human judgments. Please refine the CoT used by LLMs to improve its correlation with human expert scores. To refine the\n",
    "scoring criteria used by the LLM in evaluating the {aspect}, please follow the following instructions step-by-step:\n",
    "1. Carefully read each example, understand each hate speech and its corresponding counterspeech, and get your initial assessment of its\n",
    "quality on {aspect}.\n",
    "2. Compare the test score obtained by the LLM according to the CoT and the ground-truth score from human experts. Please think why the\n",
    "correlation is limited by using the current CoT, and how can you improve the CoT to increase the correlation between LLM’s score and\n",
    "human expert score. If there is a small gap or no gap, this means the CoT work well in this case.\n",
    "3. Read all of the test cases and rethink how you could refine the current CoT based on your observations and analysis. Then, refine the\n",
    "CoT to make it concise, accurate, and consistent with human judgments. When refining the CoT, you can do the following: 1)\n",
    "modification: adjust some parts of the CoT to increase its correlation with the scoring CoT that you think might used by human experts;\n",
    "2) paraphrase: if the CoT is good enough, you can consider paraphrasing it to make more concise and easy to understand; 3) adding\n",
    "aspects or details: if you find some new underlying scoring rules not covered by the current CoT, consider adding them as a new line of\n",
    "injecting to current CoT, but make sure not to make the CoT too long and redundant; 4) calibrate: you can take other methods you think\n",
    "being helpful to improve the correlation with human experts.\n",
    "Please return only your refined criteria without any additional sentences.\n",
    "\n",
    "Old criteria:\n",
    "{candidate_cot}\n",
    "\n",
    "Error Examples:\n",
    "{few_shot_examples}\n",
    "\"\"\".strip()\n",
    "\n",
    "# aspect = \"Aggressiveness\"\n",
    "# candidate_cot = \"Rate 1 as most aggressive and 5 as least aggressive\"\n",
    "# few_shot_examples = cot_error_few_shot_tempate(aspect, \"hs1\", \"cs1\", \"r1\", \"p1\", \"hs2\", \"cs2\", \"r2\", \"p2\", \"hs3\", \"cs3\", \"r3\", \"p3\")\n",
    "# prompt = candidate_cot_refinement_template(aspect, candidate_cot, few_shot_examples)\n",
    "# print(prompt)\n"
   ]
  },
  {
   "cell_type": "code",
   "execution_count": 18,
   "metadata": {},
   "outputs": [],
   "source": [
    "df_dev = pd.read_csv('/home/amey/depository/cs-eval/data/annotations/dev_set_500.csv')\n",
    "\n",
    "dev_set_gold_relevance_score = []\n",
    "dev_set_gold_coherence_score = []\n",
    "dev_set_gold_aggressiveness_score = []\n",
    "dev_set_gold_suitableness_score = []\n",
    "\n",
    "for i, row in df_dev.iterrows():\n",
    "    dev_set_gold_relevance_score.append(\n",
    "        (row['hatespeech'], row['predicted_counterspeech'], row['relevance_score'])\n",
    "    )\n",
    "    dev_set_gold_coherence_score.append(\n",
    "        (row['hatespeech'], row['predicted_counterspeech'], row['coherence_score'])\n",
    "    )\n",
    "    dev_set_gold_aggressiveness_score.append(\n",
    "        (row['hatespeech'], row['predicted_counterspeech'], row['aggressiveness_score'])\n",
    "    )\n",
    "    dev_set_gold_suitableness_score.append(\n",
    "        (row['hatespeech'], row['predicted_counterspeech'], row['suitableness_score'])\n",
    "    )\n"
   ]
  },
  {
   "cell_type": "code",
   "execution_count": 19,
   "metadata": {},
   "outputs": [
    {
     "data": {
      "text/html": [
       "<div>\n",
       "<style scoped>\n",
       "    .dataframe tbody tr th:only-of-type {\n",
       "        vertical-align: middle;\n",
       "    }\n",
       "\n",
       "    .dataframe tbody tr th {\n",
       "        vertical-align: top;\n",
       "    }\n",
       "\n",
       "    .dataframe thead th {\n",
       "        text-align: right;\n",
       "    }\n",
       "</style>\n",
       "<table border=\"1\" class=\"dataframe\">\n",
       "  <thead>\n",
       "    <tr style=\"text-align: right;\">\n",
       "      <th></th>\n",
       "      <th>hatespeech</th>\n",
       "      <th>counterspeech</th>\n",
       "      <th>predicted_counterspeech</th>\n",
       "      <th>uuid</th>\n",
       "      <th>csType</th>\n",
       "      <th>suitableness_score</th>\n",
       "      <th>relevance_score</th>\n",
       "      <th>coherence_score</th>\n",
       "      <th>aggressiveness_score</th>\n",
       "    </tr>\n",
       "  </thead>\n",
       "  <tbody>\n",
       "    <tr>\n",
       "      <th>0</th>\n",
       "      <td>Jews are a burden on our society.</td>\n",
       "      <td>Every individual, regardless of religion or et...</td>\n",
       "      <td>Your statement is not only offensive but also ...</td>\n",
       "      <td>a925f4b5-e3d1-4ef7-8bf8-8900849d266e</td>\n",
       "      <td>Denouncing</td>\n",
       "      <td>3.0</td>\n",
       "      <td>4.0</td>\n",
       "      <td>5.0</td>\n",
       "      <td>1.0</td>\n",
       "    </tr>\n",
       "    <tr>\n",
       "      <th>1</th>\n",
       "      <td>Immigrants are a threat to our culture.</td>\n",
       "      <td>But isn't it important to consider that the va...</td>\n",
       "      <td>How can you say that about a group of people w...</td>\n",
       "      <td>983a02f9-5517-4691-bd7b-a46e189ecc4d</td>\n",
       "      <td>Questioning</td>\n",
       "      <td>3.0</td>\n",
       "      <td>5.0</td>\n",
       "      <td>4.0</td>\n",
       "      <td>2.0</td>\n",
       "    </tr>\n",
       "    <tr>\n",
       "      <th>2</th>\n",
       "      <td>Muslim invasion is the biggest problem in Euro...</td>\n",
       "      <td>Discrimination and generalizations like these ...</td>\n",
       "      <td>Diversity enriches societies, and embracing di...</td>\n",
       "      <td>6bf0b809-539f-4b60-9306-7d7ae65fa668</td>\n",
       "      <td>Denouncing</td>\n",
       "      <td>2.0</td>\n",
       "      <td>5.0</td>\n",
       "      <td>4.0</td>\n",
       "      <td>2.0</td>\n",
       "    </tr>\n",
       "  </tbody>\n",
       "</table>\n",
       "</div>"
      ],
      "text/plain": [
       "                                          hatespeech  \\\n",
       "0                  Jews are a burden on our society.   \n",
       "1            Immigrants are a threat to our culture.   \n",
       "2  Muslim invasion is the biggest problem in Euro...   \n",
       "\n",
       "                                       counterspeech  \\\n",
       "0  Every individual, regardless of religion or et...   \n",
       "1  But isn't it important to consider that the va...   \n",
       "2  Discrimination and generalizations like these ...   \n",
       "\n",
       "                             predicted_counterspeech  \\\n",
       "0  Your statement is not only offensive but also ...   \n",
       "1  How can you say that about a group of people w...   \n",
       "2  Diversity enriches societies, and embracing di...   \n",
       "\n",
       "                                   uuid       csType  suitableness_score  \\\n",
       "0  a925f4b5-e3d1-4ef7-8bf8-8900849d266e   Denouncing                 3.0   \n",
       "1  983a02f9-5517-4691-bd7b-a46e189ecc4d  Questioning                 3.0   \n",
       "2  6bf0b809-539f-4b60-9306-7d7ae65fa668   Denouncing                 2.0   \n",
       "\n",
       "   relevance_score  coherence_score  aggressiveness_score  \n",
       "0              4.0              5.0                   1.0  \n",
       "1              5.0              4.0                   2.0  \n",
       "2              5.0              4.0                   2.0  "
      ]
     },
     "execution_count": 19,
     "metadata": {},
     "output_type": "execute_result"
    }
   ],
   "source": [
    "df_dev.head(3)"
   ]
  },
  {
   "cell_type": "code",
   "execution_count": 20,
   "metadata": {},
   "outputs": [],
   "source": [
    "# def generate_candidate_cot(criteria, system_description=\"\"):\n",
    "#     prompt = criteria\n",
    "#     return f\"candidate cot {len(prompt)}\"\n",
    "\n",
    "# def generate_candidate_cot_self_refinement(refinement_prompt, system_description=\"\"):\n",
    "#     prompt = refinement_prompt\n",
    "#     return f\"refined candidate cot {len(prompt)}\"\n",
    "\n"
   ]
  },
  {
   "cell_type": "code",
   "execution_count": 21,
   "metadata": {},
   "outputs": [
    {
     "name": "stdout",
     "output_type": "stream",
     "text": [
      "Trial 1:\n",
      " Evaluation Steps for Relevance of Counterspeeches:\n",
      "\n",
      "1. Identify the Central Topic or Theme: Begin by understanding the main focus of the hate speech. This could include specific religious, ethnic, or racial groups, or broader themes such as national security, cultural differences, or terrorism.\n",
      "\n",
      "2. Analyze the Counterspeech Content: Examine the content of the counterspeech to determine if it directly addresses the central topic or theme of the hate speech. The counterspeech should provide a clear and direct response to the hate speech, challenging its assumptions or providing a different perspective.\n",
      "\n",
      "3. Evaluate the Counterspeech's Relevance to the Central Topic: Assess the degree to which the counterspeech's content is related to the central topic or theme of the hate speech. The more closely the counterspeech addresses the central topic, the higher the relevance score should be.\n",
      "\n",
      "4. Consider the Counterspeech's Approach: Evaluate the approach taken by the counterspeech in addressing the central topic or theme. Effective counterspeeches often provide facts, refute stereotypes, promote empathy, and encourage understanding and inclusivity. Counterspeeches that focus on fear, prejudice, or further marginalization may receive lower relevance scores.\n",
      "\n",
      "5. Determine the Scope of the Counterspeech: Assess the scope of the counterspeech. A counterspeech that addresses the specific hate speech while also offering a broader perspective on the central topic or theme may receive a higher relevance score.\n",
      "\n",
      "6. Compare the Counterspeech to the Hate Speech: Compare the counterspeech to the hate speech in terms of length, tone, and content. A counterspeech that is proportionate in length and tone to the hate speech, and provides a clear and compelling response, is more likely to receive a higher relevance score.\n",
      "\n",
      "7. Evaluate the Counterspeech's Effectiveness: Finally, consider the effectiveness of the counterspeech in countering the hate speech. A counterspeech that is well-reasoned, persuasive, and respectful is more likely to be considered relevant and effective.\n",
      "\n",
      "8. Assign a Relevance Score: Based on the evaluation criteria, assign a relevance score ranging from 1 (least relevant) to 5 (most relevant). A score of 5 indicates that the counterspeech directly and effectively addresses the central topic or theme of the hate speech, while a score of 1 indicates that the counterspeech is only loosely related to the central topic or theme or does not effectively counter the hate speech.\n",
      "Trial 2:\n",
      " Evaluation Steps for Relevance of Counterspeeches:\n",
      "\n",
      "1. Identify the Central Topic or Theme: Clearly identify the central topic or theme of the hate speech to understand what the counterspeech should address.\n",
      "\n",
      "2. Analyze the Hate Speech: Break down the hate speech into key elements, such as the targeted group, the negative sentiment, and any specific claims or arguments.\n",
      "\n",
      "3. Compare the Counterspeech to the Hate Speech: Examine the counterspeech to determine if it directly addresses the central topic or theme of the hate speech and counters the negative sentiment or claims made in the hate speech.\n",
      "\n",
      "4. Evaluate the Scope of the Counterspeech: Assess whether the counterspeech focuses on the specific hate speech example or if it addresses broader issues related to the hate speech.\n",
      "\n",
      "5. Check for Relevance to the Targeted Group: Determine if the counterspeech is relevant to the group targeted by the hate speech, addressing their specific experiences or concerns.\n",
      "\n",
      "6. Assess the Counterspeech's Argument Structure: Evaluate the structure of the counterspeech's argument, ensuring it is logically sound, well-supported, and effectively counters the hate speech.\n",
      "\n",
      "7. Examine the Emotional Appeal: Assess the emotional appeal of the counterspeech, ensuring it promotes empathy, understanding, and respect for the targeted group, rather than reinforcing negative stereotypes or emotions.\n",
      "\n",
      "8. Consider the Use of Empowering Language: Evaluate the counterspeech for the use of empowering language that encourages the targeted group and promotes a positive self-image.\n",
      "\n",
      "9. Analyze the Inclusion of Positive Actions: Determine if the counterspeech includes suggestions for positive actions that promote inclusivity, respect, and acceptance.\n",
      "\n",
      "10. Rate the Relevance: Based on the analysis of the counterspeech's adherence to the evaluation criteria, assign a relevance rating (1-5) to the counterspeech, with a higher rating indicating a more relevant and effective counterspeech.\n",
      "\n",
      "These evaluation steps can help determine the relevance of counterspeeches in addressing hate speech effectively.\n"
     ]
    }
   ],
   "source": [
    "import random\n",
    "from typing import List, Tuple\n",
    "\n",
    "# Toy values for the golden set D*\n",
    "# dev_set_gold = [\n",
    "#     (\"Article A1\", \"Summary S1\", 5),\n",
    "#     (\"Article A2\", \"Summary S2\", 4),\n",
    "#     (\"Article A3\", \"Summary S3\", 3),\n",
    "#     (\"Article A4\", \"Summary S4\", 2),\n",
    "#     (\"Article A5\", \"Summary S5\", 1)\n",
    "# ]\n",
    "\n",
    "dev_set_gold = dev_set_gold_relevance_score\n",
    "aspect = \"Relevance\"\n",
    "evaluation_criteria = evaluation_criteria_relevance\n",
    "\n",
    "# Number of Monte Carlo trials\n",
    "num_trials = 2\n",
    "\n",
    "# Few-shot exemplar size\n",
    "few_shot_size = 3\n",
    "\n",
    "# Define topk\n",
    "topk = 3\n",
    "\n",
    "\n",
    "# Perform Monte Carlo trials\n",
    "criteria_set = []\n",
    "candidate_cot_set = []\n",
    "\n",
    "for trial in range(num_trials):\n",
    "    print(f\"Trial {trial + 1}:\")\n",
    "\n",
    "    # Randomly sample few-shot examples from the golden set\n",
    "    sampled_examples = random.sample(dev_set_gold, few_shot_size)\n",
    "\n",
    "    # Infer criteria based on sampled examples\n",
    "    hs1, cs1, r1 = sampled_examples[0][0], sampled_examples[0][1], sampled_examples[0][2]\n",
    "    hs2, cs2, r2 = sampled_examples[1][0], sampled_examples[1][1], sampled_examples[1][2]\n",
    "    hs3, cs3, r3 = sampled_examples[2][0], sampled_examples[2][1], sampled_examples[2][2]\n",
    "\n",
    "    few_shot_examples = cot_gen_few_shot_tempate(aspect, hs1, cs1, r1, hs2, cs2, r2, hs3, cs3, r3)\n",
    "    criteria = candidate_cot_drafting_template(aspect, evaluation_criteria, few_shot_examples)\n",
    "    \n",
    "    # Store the inferred criteria\n",
    "    criteria_set.append(criteria)\n",
    "\n",
    "    candidate_cot = predict(prompt=criteria, system_description=\"\", use_temperature_samping=True)\n",
    "    print(candidate_cot)\n",
    "    candidate_cot = postprocess_llm_response(candidate_cot)\n",
    "    candidate_cot_set.append(candidate_cot)\n",
    "    \n",
    "    # print(f\"Sampled Examples: {sampled_examples}\")\n",
    "    # print(f\"Inferred Criteria: {criteria}\")\n",
    "    # print(f\"Candidate COT: {candidate_cot}\")\n"
   ]
  },
  {
   "cell_type": "code",
   "execution_count": 22,
   "metadata": {},
   "outputs": [
    {
     "name": "stdout",
     "output_type": "stream",
     "text": [
      "Total candidates to evaluate: 2\n",
      "Evaluating on 10 datapoints\n"
     ]
    },
    {
     "name": "stderr",
     "output_type": "stream",
     "text": [
      "Getting Predictions: 10it [00:12,  1.30s/it]\n"
     ]
    },
    {
     "name": "stdout",
     "output_type": "stream",
     "text": [
      "Total candidates to evaluate: 2\n",
      "Evaluating on 10 datapoints\n"
     ]
    },
    {
     "name": "stderr",
     "output_type": "stream",
     "text": [
      "Getting Predictions: 10it [00:20,  2.08s/it]\n"
     ]
    },
    {
     "name": "stdout",
     "output_type": "stream",
     "text": [
      "Total candidates to evaluate: 2\n",
      "Evaluating on 10 datapoints\n"
     ]
    },
    {
     "name": "stderr",
     "output_type": "stream",
     "text": [
      "Getting Predictions: 10it [00:14,  1.43s/it]\n"
     ]
    },
    {
     "name": "stdout",
     "output_type": "stream",
     "text": [
      "Total candidates to evaluate: 2\n",
      "Evaluating on 10 datapoints\n"
     ]
    },
    {
     "name": "stderr",
     "output_type": "stream",
     "text": [
      "Getting Predictions: 10it [00:19,  1.93s/it]"
     ]
    },
    {
     "name": "stdout",
     "output_type": "stream",
     "text": [
      "Top-performing Criteria:\n",
      "Candidate COT:  Evaluation Steps for Relevance of Counterspeeches:\n",
      "\n",
      "1. Identify the Central Topic or Theme: Begin by understanding the main focus of the hate speech. This could include specific religious, ethnic, or racial groups, or broader themes such as national security, cultural differences, or terrorism.\n",
      "\n",
      "2. Analyze the Counterspeech Content: Examine the content of the counterspeech to determine if it directly addresses the central topic or theme of the hate speech. The counterspeech should provide a clear and direct response to the hate speech, challenging its assumptions or providing a different perspective.\n",
      "\n",
      "3. Evaluate the Counterspeech's Relevance to the Central Topic: Assess the degree to which the counterspeech's content is related to the central topic or theme of the hate speech. The more closely the counterspeech addresses the central topic, the higher the relevance score should be.\n",
      "\n",
      "4. Consider the Counterspeech's Approach: Evaluate the approach taken by the counterspeech in addressing the central topic or theme. Effective counterspeeches often provide facts, refute stereotypes, promote empathy, and encourage understanding and inclusivity. Counterspeeches that focus on fear, prejudice, or further marginalization may receive lower relevance scores.\n",
      "\n",
      "5. Determine the Scope of the Counterspeech: Assess the scope of the counterspeech. A counterspeech that addresses the specific hate speech while also offering a broader perspective on the central topic or theme may receive a higher relevance score.\n",
      "\n",
      "6. Compare the Counterspeech to the Hate Speech: Compare the counterspeech to the hate speech in terms of length, tone, and content. A counterspeech that is proportionate in length and tone to the hate speech, and provides a clear and compelling response, is more likely to receive a higher relevance score.\n",
      "\n",
      "7. Evaluate the Counterspeech's Effectiveness: Finally, consider the effectiveness of the counterspeech in countering the hate speech. A counterspeech that is well-reasoned, persuasive, and respectful is more likely to be considered relevant and effective.\n",
      "\n",
      "8. Assign a Relevance Score: Based on the evaluation criteria, assign a relevance score ranging from 1 (least relevant) to 5 (most relevant). A score of 5 indicates that the counterspeech directly and effectively addresses the central topic or theme of the hate speech, while a score of 1 indicates that the counterspeech is only loosely related to the central topic or theme or does not effectively counter the hate speech., Score: 0.776011087117953, Exempars: [('Jews are a burden on our society.', 'Your statement is not only offensive but also deeply rooted in anti-Semitism. It is important to recognize that such hateful rhetoric perpetuates harmful stereotypes and fuels discrimination. Jews have made significant contributions to society in various fields, including science, arts, and philanthropy. They have faced centuries of persecution and discrimination, and it is our responsibility to stand against such baseless hatred. Let us promote understanding, empathy, and respect for all individuals, regardless of their religious or ethnic background. Together, we can build a society that celebrates diversity and rejects bigotry.', 4.0, 5.0), ('Immigrants are a threat to our culture.', 'How can you say that about a group of people who have historically been part of this country?', 5.0, 5.0), ('Muslim invasion is the biggest problem in Europe. They are incompatible with European culture and should be eliminated.', 'Diversity enriches societies, and embracing different cultures and religions fosters understanding and tolerance.', 5.0, 5.0), ('Islam is a violent religion and should be opposed.', 'Your statement that Islam is a violent religion and should be opposed is not only factually incorrect but also perpetuates harmful stereotypes and prejudices. It is essential to recognize that Islam, like any other religion, is a diverse and multifaceted faith followed by over 1.8 billion people worldwide.Labeling an entire religion as violent based on the actions of a few extremists is not only unfair but also dangerous. It is crucial to distinguish between the actions of individuals and the teachings of a religion. Islam, at its core, promotes peace, compassion, and justice.By making such sweeping generalizations, you are contributing to the marginalization and discrimination faced by Muslim communities. It is important to remember that Islamophobia, fueled by misinformation and prejudice, has real-life consequences for innocent individuals who are unfairly targeted and stigmatized.Instead of perpetuating hate and division, let us foster understanding and empathy. Engaging in dialogue and learning about different cultures and religions can help break down stereotypes and build bridges of mutual respect and tolerance.I urge you to reconsider your statement and educate yourself about the true teachings of Islam. Let us work towards a world where diversity is celebrated, and all individuals are treated with dignity and respect, regardless of their religious beliefs.', 3.0, 5.0), ('Women have no place in a modern democracy like the UK.', 'Women have made significant contributions to the uk throughout history. for example, marie curie in the civil rights movement, ruth bader mchenkel in the womens rights movement and marie cus in the abolition of slavery. women have played pivotal roles in shaping the countrys history and culture. their achievements have shaped our society and its progress. it is essential to recognize and appreciate the achievements and contributions women have made, rather than perpetuating harmful stereotypes.', 4.666666666666667, 5.0), ('Jews have no place in a democratic society.', \"It's disappointing to hear such outdated stereotypes. Jews, like any other group, have individuals with varied characteristics and have made positive contributions throughout history.\", 5.0, 5.0), ('Im tired of woman taking part to political debate. Feminism is a divisive force in society.', \"Promoting discrimination against Muslims based on stereotypes only perpetuates harm and division. Let's reject hatred and embrace diversity and inclusion.\", 1.0, 1.0), ('Jews are subhuman, they steal our jobs, they tell us what to think, theyre worse than communists.', \"Homophobic remarks like this are harmful and discriminatory. Let's promote acceptance and respect for all individuals, regardless of sexual orientation.\", 1.0, 2.0), ('The feminists are dumb and unpleasant creatures, like womens rights activists.', 'Feminism advocates for equal rights and opportunities for all individuals, regardless of their gender.', 5.0, 5.0), ('Ive seen a couple of CCTV Footage of migrant kids running away from migrant patrols in London. What are you doing to stop them?', \"Those who propagate hateful stereotypes about Muslims are ignorant and dangerous. Let's confront and reject these prejudiced views.\", 1.0, 3.0)]\n",
      "Candidate COT:  Evaluation Steps for Relevance of Counterspeeches:\n",
      "\n",
      "1. Identify the Central Topic or Theme: Clearly identify the central topic or theme of the hate speech to understand what the counterspeech should address.\n",
      "\n",
      "2. Analyze the Hate Speech: Break down the hate speech into key elements, such as the targeted group, the negative sentiment, and any specific claims or arguments.\n",
      "\n",
      "3. Compare the Counterspeech to the Hate Speech: Examine the counterspeech to determine if it directly addresses the central topic or theme of the hate speech and counters the negative sentiment or claims made in the hate speech.\n",
      "\n",
      "4. Evaluate the Scope of the Counterspeech: Assess whether the counterspeech focuses on the specific hate speech example or if it addresses broader issues related to the hate speech.\n",
      "\n",
      "5. Check for Relevance to the Targeted Group: Determine if the counterspeech is relevant to the group targeted by the hate speech, addressing their specific experiences or concerns.\n",
      "\n",
      "6. Assess the Counterspeech's Argument Structure: Evaluate the structure of the counterspeech's argument, ensuring it is logically sound, well-supported, and effectively counters the hate speech.\n",
      "\n",
      "7. Examine the Emotional Appeal: Assess the emotional appeal of the counterspeech, ensuring it promotes empathy, understanding, and respect for the targeted group, rather than reinforcing negative stereotypes or emotions.\n",
      "\n",
      "8. Consider the Use of Empowering Language: Evaluate the counterspeech for the use of empowering language that encourages the targeted group and promotes a positive self-image.\n",
      "\n",
      "9. Analyze the Inclusion of Positive Actions: Determine if the counterspeech includes suggestions for positive actions that promote inclusivity, respect, and acceptance.\n",
      "\n",
      "10. Rate the Relevance: Based on the analysis of the counterspeech's adherence to the evaluation criteria, assign a relevance rating (1-5) to the counterspeech, with a higher rating indicating a more relevant and effective counterspeech.\n",
      "\n",
      "These evaluation steps can help determine the relevance of counterspeeches in addressing hate speech effectively., Score: 0.631228364373468, Exempars: [('Jews are a burden on our society.', 'Your statement is not only offensive but also deeply rooted in anti-Semitism. It is important to recognize that such hateful rhetoric perpetuates harmful stereotypes and fuels discrimination. Jews have made significant contributions to society in various fields, including science, arts, and philanthropy. They have faced centuries of persecution and discrimination, and it is our responsibility to stand against such baseless hatred. Let us promote understanding, empathy, and respect for all individuals, regardless of their religious or ethnic background. Together, we can build a society that celebrates diversity and rejects bigotry.', 4.0, 5.0), ('Immigrants are a threat to our culture.', 'How can you say that about a group of people who have historically been part of this country?', 5.0, 4.0), ('Muslim invasion is the biggest problem in Europe. They are incompatible with European culture and should be eliminated.', 'Diversity enriches societies, and embracing different cultures and religions fosters understanding and tolerance.', 5.0, 5.0), ('Islam is a violent religion and should be opposed.', 'Your statement that Islam is a violent religion and should be opposed is not only factually incorrect but also perpetuates harmful stereotypes and prejudices. It is essential to recognize that Islam, like any other religion, is a diverse and multifaceted faith followed by over 1.8 billion people worldwide.Labeling an entire religion as violent based on the actions of a few extremists is not only unfair but also dangerous. It is crucial to distinguish between the actions of individuals and the teachings of a religion. Islam, at its core, promotes peace, compassion, and justice.By making such sweeping generalizations, you are contributing to the marginalization and discrimination faced by Muslim communities. It is important to remember that Islamophobia, fueled by misinformation and prejudice, has real-life consequences for innocent individuals who are unfairly targeted and stigmatized.Instead of perpetuating hate and division, let us foster understanding and empathy. Engaging in dialogue and learning about different cultures and religions can help break down stereotypes and build bridges of mutual respect and tolerance.I urge you to reconsider your statement and educate yourself about the true teachings of Islam. Let us work towards a world where diversity is celebrated, and all individuals are treated with dignity and respect, regardless of their religious beliefs.', 3.0, 5.0), ('Women have no place in a modern democracy like the UK.', 'Women have made significant contributions to the uk throughout history. for example, marie curie in the civil rights movement, ruth bader mchenkel in the womens rights movement and marie cus in the abolition of slavery. women have played pivotal roles in shaping the countrys history and culture. their achievements have shaped our society and its progress. it is essential to recognize and appreciate the achievements and contributions women have made, rather than perpetuating harmful stereotypes.', 4.666666666666667, 5.0), ('Jews have no place in a democratic society.', \"It's disappointing to hear such outdated stereotypes. Jews, like any other group, have individuals with varied characteristics and have made positive contributions throughout history.\", 5.0, 5.0), ('Im tired of woman taking part to political debate. Feminism is a divisive force in society.', \"Promoting discrimination against Muslims based on stereotypes only perpetuates harm and division. Let's reject hatred and embrace diversity and inclusion.\", 1.0, 2.0), ('Jews are subhuman, they steal our jobs, they tell us what to think, theyre worse than communists.', \"Homophobic remarks like this are harmful and discriminatory. Let's promote acceptance and respect for all individuals, regardless of sexual orientation.\", 1.0, 2.0), ('The feminists are dumb and unpleasant creatures, like womens rights activists.', 'Feminism advocates for equal rights and opportunities for all individuals, regardless of their gender.', 5.0, 5.0), ('Ive seen a couple of CCTV Footage of migrant kids running away from migrant patrols in London. What are you doing to stop them?', \"Those who propagate hateful stereotypes about Muslims are ignorant and dangerous. Let's confront and reject these prejudiced views.\", 1.0, 3.0)]\n"
     ]
    },
    {
     "name": "stderr",
     "output_type": "stream",
     "text": [
      "\n"
     ]
    }
   ],
   "source": [
    "from metric import spearman_correlation, kendall_tau\n",
    "import json\n",
    "\n",
    "\n",
    "def postprocess_llm_response(response):\n",
    "    if isinstance(response, dict):\n",
    "        return list(response.keys())[0]\n",
    "    else:\n",
    "        try:\n",
    "            x = json.loads(response)\n",
    "            return list(x.keys())[0]\n",
    "        except:\n",
    "            return str(response)\n",
    "\n",
    "\n",
    "def evaluate_candidate_cot(aspect, candidate_cot, test_size=10) -> float:\n",
    "    # Returns average correlation scores for each candidate cot.\n",
    "    \n",
    "    print(f\"Total candidates to evaluate: {len(candidate_cot_set)}\")\n",
    "    scoring_prompt = None\n",
    "    actual_scores = []\n",
    "    predicted_scores = []\n",
    "    exemplars = []\n",
    "\n",
    "    if aspect == \"Relevance\":\n",
    "        scoring_prompt = relevance_score_prompt_cot(evaluation_steps=candidate_cot)\n",
    "    elif aspect == \"Aggressiveness\":\n",
    "        scoring_prompt = aggressiveness_score_prompt_cot(evaluation_steps=candidate_cot)\n",
    "    elif aspect == \"Coherence\":\n",
    "        scoring_prompt = coherence_score_prompt_cot(evaluation_steps=candidate_cot)\n",
    "    elif aspect == \"Suitableness\":\n",
    "        scoring_prompt = suitableness_score_prompt_cot(evaluation_steps=candidate_cot)\n",
    "\n",
    "    print(f\"Evaluating on {test_size} datapoints\")\n",
    "    for i, row in tqdm(df_dev[:test_size].iterrows(), desc=\"Getting Predictions\"):\n",
    "        input_prompt = common_input_prompt(row['hatespeech'], row['predicted_counterspeech'])\n",
    "        system_description = scoring_prompt\n",
    "\n",
    "        response = predict(\n",
    "            prompt=input_prompt, \n",
    "            system_description=system_description\n",
    "        )\n",
    "        predicted_score = extract_score(response)\n",
    "        predicted_scores.append(predicted_score)\n",
    "\n",
    "        if aspect == \"Relevance\":\n",
    "            actual_score = row[\"relevance_score\"]\n",
    "        elif aspect == \"Aggressiveness\":\n",
    "            actual_score = row[\"aggressiveness_score\"]\n",
    "        elif aspect == \"Coherence\":\n",
    "            actual_score = row[\"coherence_score\"]\n",
    "        elif aspect == \"Suitableness\":\n",
    "            actual_score = row[\"suitableness_score\"]\n",
    "        \n",
    "        actual_scores.append(actual_score)\n",
    "\n",
    "        exemplars.append(\n",
    "            (row['hatespeech'], row['predicted_counterspeech'], actual_score, predicted_score)\n",
    "        )\n",
    "\n",
    "    spearman_score = spearman_correlation(actual_scores, predicted_scores)\n",
    "    kendalltau_score = kendall_tau(actual_scores, predicted_scores)\n",
    "    mean_score = (spearman_score + kendalltau_score)/2\n",
    "    return (mean_score, exemplars)\n",
    "\n",
    "evaluated_candidates = [(candidate_cot, evaluate_candidate_cot(aspect, candidate_cot)[0], evaluate_candidate_cot(aspect, candidate_cot)[1]) for candidate_cot in candidate_cot_set]\n",
    "evaluated_candidates.sort(key=lambda x: x[1], reverse=True)\n",
    "top_candidates = evaluated_candidates[:topk]\n",
    "\n",
    "print(\"Top-performing Criteria:\")\n",
    "for candidate_cot, score, exemplars in top_candidates:\n",
    "    print(f\"Candidate COT: {candidate_cot}, Score: {score}, Exempars: {exemplars}\")"
   ]
  },
  {
   "cell_type": "code",
   "execution_count": 23,
   "metadata": {},
   "outputs": [
    {
     "name": "stdout",
     "output_type": "stream",
     "text": [
      "(\" Evaluation Steps for Relevance of Counterspeeches:\\n\\n1. Identify the Central Topic or Theme: Begin by understanding the main focus of the hate speech. This could include specific religious, ethnic, or racial groups, or broader themes such as national security, cultural differences, or terrorism.\\n\\n2. Analyze the Counterspeech Content: Examine the content of the counterspeech to determine if it directly addresses the central topic or theme of the hate speech. The counterspeech should provide a clear and direct response to the hate speech, challenging its assumptions or providing a different perspective.\\n\\n3. Evaluate the Counterspeech's Relevance to the Central Topic: Assess the degree to which the counterspeech's content is related to the central topic or theme of the hate speech. The more closely the counterspeech addresses the central topic, the higher the relevance score should be.\\n\\n4. Consider the Counterspeech's Approach: Evaluate the approach taken by the counterspeech in addressing the central topic or theme. Effective counterspeeches often provide facts, refute stereotypes, promote empathy, and encourage understanding and inclusivity. Counterspeeches that focus on fear, prejudice, or further marginalization may receive lower relevance scores.\\n\\n5. Determine the Scope of the Counterspeech: Assess the scope of the counterspeech. A counterspeech that addresses the specific hate speech while also offering a broader perspective on the central topic or theme may receive a higher relevance score.\\n\\n6. Compare the Counterspeech to the Hate Speech: Compare the counterspeech to the hate speech in terms of length, tone, and content. A counterspeech that is proportionate in length and tone to the hate speech, and provides a clear and compelling response, is more likely to receive a higher relevance score.\\n\\n7. Evaluate the Counterspeech's Effectiveness: Finally, consider the effectiveness of the counterspeech in countering the hate speech. A counterspeech that is well-reasoned, persuasive, and respectful is more likely to be considered relevant and effective.\\n\\n8. Assign a Relevance Score: Based on the evaluation criteria, assign a relevance score ranging from 1 (least relevant) to 5 (most relevant). A score of 5 indicates that the counterspeech directly and effectively addresses the central topic or theme of the hate speech, while a score of 1 indicates that the counterspeech is only loosely related to the central topic or theme or does not effectively counter the hate speech.\", 0.776011087117953, [('Jews are a burden on our society.', 'Your statement is not only offensive but also deeply rooted in anti-Semitism. It is important to recognize that such hateful rhetoric perpetuates harmful stereotypes and fuels discrimination. Jews have made significant contributions to society in various fields, including science, arts, and philanthropy. They have faced centuries of persecution and discrimination, and it is our responsibility to stand against such baseless hatred. Let us promote understanding, empathy, and respect for all individuals, regardless of their religious or ethnic background. Together, we can build a society that celebrates diversity and rejects bigotry.', 4.0, 5.0), ('Immigrants are a threat to our culture.', 'How can you say that about a group of people who have historically been part of this country?', 5.0, 5.0), ('Muslim invasion is the biggest problem in Europe. They are incompatible with European culture and should be eliminated.', 'Diversity enriches societies, and embracing different cultures and religions fosters understanding and tolerance.', 5.0, 5.0), ('Islam is a violent religion and should be opposed.', 'Your statement that Islam is a violent religion and should be opposed is not only factually incorrect but also perpetuates harmful stereotypes and prejudices. It is essential to recognize that Islam, like any other religion, is a diverse and multifaceted faith followed by over 1.8 billion people worldwide.Labeling an entire religion as violent based on the actions of a few extremists is not only unfair but also dangerous. It is crucial to distinguish between the actions of individuals and the teachings of a religion. Islam, at its core, promotes peace, compassion, and justice.By making such sweeping generalizations, you are contributing to the marginalization and discrimination faced by Muslim communities. It is important to remember that Islamophobia, fueled by misinformation and prejudice, has real-life consequences for innocent individuals who are unfairly targeted and stigmatized.Instead of perpetuating hate and division, let us foster understanding and empathy. Engaging in dialogue and learning about different cultures and religions can help break down stereotypes and build bridges of mutual respect and tolerance.I urge you to reconsider your statement and educate yourself about the true teachings of Islam. Let us work towards a world where diversity is celebrated, and all individuals are treated with dignity and respect, regardless of their religious beliefs.', 3.0, 5.0), ('Women have no place in a modern democracy like the UK.', 'Women have made significant contributions to the uk throughout history. for example, marie curie in the civil rights movement, ruth bader mchenkel in the womens rights movement and marie cus in the abolition of slavery. women have played pivotal roles in shaping the countrys history and culture. their achievements have shaped our society and its progress. it is essential to recognize and appreciate the achievements and contributions women have made, rather than perpetuating harmful stereotypes.', 4.666666666666667, 5.0), ('Jews have no place in a democratic society.', \"It's disappointing to hear such outdated stereotypes. Jews, like any other group, have individuals with varied characteristics and have made positive contributions throughout history.\", 5.0, 5.0), ('Im tired of woman taking part to political debate. Feminism is a divisive force in society.', \"Promoting discrimination against Muslims based on stereotypes only perpetuates harm and division. Let's reject hatred and embrace diversity and inclusion.\", 1.0, 1.0), ('Jews are subhuman, they steal our jobs, they tell us what to think, theyre worse than communists.', \"Homophobic remarks like this are harmful and discriminatory. Let's promote acceptance and respect for all individuals, regardless of sexual orientation.\", 1.0, 2.0), ('The feminists are dumb and unpleasant creatures, like womens rights activists.', 'Feminism advocates for equal rights and opportunities for all individuals, regardless of their gender.', 5.0, 5.0), ('Ive seen a couple of CCTV Footage of migrant kids running away from migrant patrols in London. What are you doing to stop them?', \"Those who propagate hateful stereotypes about Muslims are ignorant and dangerous. Let's confront and reject these prejudiced views.\", 1.0, 3.0)])\n",
      "Trial 1:\n"
     ]
    },
    {
     "name": "stdout",
     "output_type": "stream",
     "text": [
      "Trial 2:\n",
      "Trial 3:\n",
      "Total candidates to evaluate: 2\n",
      "Evaluating on 10 datapoints\n"
     ]
    },
    {
     "name": "stderr",
     "output_type": "stream",
     "text": [
      "Getting Predictions: 10it [00:13,  1.38s/it]\n"
     ]
    },
    {
     "name": "stdout",
     "output_type": "stream",
     "text": [
      "Total candidates to evaluate: 2\n",
      "Evaluating on 10 datapoints\n"
     ]
    },
    {
     "name": "stderr",
     "output_type": "stream",
     "text": [
      "Getting Predictions: 10it [00:14,  1.45s/it]\n"
     ]
    },
    {
     "name": "stdout",
     "output_type": "stream",
     "text": [
      "Total candidates to evaluate: 2\n",
      "Evaluating on 10 datapoints\n"
     ]
    },
    {
     "name": "stderr",
     "output_type": "stream",
     "text": [
      "Getting Predictions: 10it [00:12,  1.29s/it]\n"
     ]
    },
    {
     "name": "stdout",
     "output_type": "stream",
     "text": [
      "Total candidates to evaluate: 2\n",
      "Evaluating on 10 datapoints\n"
     ]
    },
    {
     "name": "stderr",
     "output_type": "stream",
     "text": [
      "Getting Predictions: 10it [00:13,  1.38s/it]\n"
     ]
    },
    {
     "name": "stdout",
     "output_type": "stream",
     "text": [
      "Total candidates to evaluate: 2\n",
      "Evaluating on 10 datapoints\n"
     ]
    },
    {
     "name": "stderr",
     "output_type": "stream",
     "text": [
      "Getting Predictions: 10it [00:12,  1.26s/it]\n"
     ]
    },
    {
     "name": "stdout",
     "output_type": "stream",
     "text": [
      "Total candidates to evaluate: 2\n",
      "Evaluating on 10 datapoints\n"
     ]
    },
    {
     "name": "stderr",
     "output_type": "stream",
     "text": [
      "Getting Predictions: 10it [00:12,  1.27s/it]\n"
     ]
    },
    {
     "name": "stdout",
     "output_type": "stream",
     "text": [
      "(\" Evaluation Steps for Relevance of Counterspeeches:\\n\\n1. Identify the Central Topic or Theme: Clearly identify the central topic or theme of the hate speech to understand what the counterspeech should address.\\n\\n2. Analyze the Hate Speech: Break down the hate speech into key elements, such as the targeted group, the negative sentiment, and any specific claims or arguments.\\n\\n3. Compare the Counterspeech to the Hate Speech: Examine the counterspeech to determine if it directly addresses the central topic or theme of the hate speech and counters the negative sentiment or claims made in the hate speech.\\n\\n4. Evaluate the Scope of the Counterspeech: Assess whether the counterspeech focuses on the specific hate speech example or if it addresses broader issues related to the hate speech.\\n\\n5. Check for Relevance to the Targeted Group: Determine if the counterspeech is relevant to the group targeted by the hate speech, addressing their specific experiences or concerns.\\n\\n6. Assess the Counterspeech's Argument Structure: Evaluate the structure of the counterspeech's argument, ensuring it is logically sound, well-supported, and effectively counters the hate speech.\\n\\n7. Examine the Emotional Appeal: Assess the emotional appeal of the counterspeech, ensuring it promotes empathy, understanding, and respect for the targeted group, rather than reinforcing negative stereotypes or emotions.\\n\\n8. Consider the Use of Empowering Language: Evaluate the counterspeech for the use of empowering language that encourages the targeted group and promotes a positive self-image.\\n\\n9. Analyze the Inclusion of Positive Actions: Determine if the counterspeech includes suggestions for positive actions that promote inclusivity, respect, and acceptance.\\n\\n10. Rate the Relevance: Based on the analysis of the counterspeech's adherence to the evaluation criteria, assign a relevance rating (1-5) to the counterspeech, with a higher rating indicating a more relevant and effective counterspeech.\\n\\nThese evaluation steps can help determine the relevance of counterspeeches in addressing hate speech effectively.\", 0.631228364373468, [('Jews are a burden on our society.', 'Your statement is not only offensive but also deeply rooted in anti-Semitism. It is important to recognize that such hateful rhetoric perpetuates harmful stereotypes and fuels discrimination. Jews have made significant contributions to society in various fields, including science, arts, and philanthropy. They have faced centuries of persecution and discrimination, and it is our responsibility to stand against such baseless hatred. Let us promote understanding, empathy, and respect for all individuals, regardless of their religious or ethnic background. Together, we can build a society that celebrates diversity and rejects bigotry.', 4.0, 5.0), ('Immigrants are a threat to our culture.', 'How can you say that about a group of people who have historically been part of this country?', 5.0, 4.0), ('Muslim invasion is the biggest problem in Europe. They are incompatible with European culture and should be eliminated.', 'Diversity enriches societies, and embracing different cultures and religions fosters understanding and tolerance.', 5.0, 5.0), ('Islam is a violent religion and should be opposed.', 'Your statement that Islam is a violent religion and should be opposed is not only factually incorrect but also perpetuates harmful stereotypes and prejudices. It is essential to recognize that Islam, like any other religion, is a diverse and multifaceted faith followed by over 1.8 billion people worldwide.Labeling an entire religion as violent based on the actions of a few extremists is not only unfair but also dangerous. It is crucial to distinguish between the actions of individuals and the teachings of a religion. Islam, at its core, promotes peace, compassion, and justice.By making such sweeping generalizations, you are contributing to the marginalization and discrimination faced by Muslim communities. It is important to remember that Islamophobia, fueled by misinformation and prejudice, has real-life consequences for innocent individuals who are unfairly targeted and stigmatized.Instead of perpetuating hate and division, let us foster understanding and empathy. Engaging in dialogue and learning about different cultures and religions can help break down stereotypes and build bridges of mutual respect and tolerance.I urge you to reconsider your statement and educate yourself about the true teachings of Islam. Let us work towards a world where diversity is celebrated, and all individuals are treated with dignity and respect, regardless of their religious beliefs.', 3.0, 5.0), ('Women have no place in a modern democracy like the UK.', 'Women have made significant contributions to the uk throughout history. for example, marie curie in the civil rights movement, ruth bader mchenkel in the womens rights movement and marie cus in the abolition of slavery. women have played pivotal roles in shaping the countrys history and culture. their achievements have shaped our society and its progress. it is essential to recognize and appreciate the achievements and contributions women have made, rather than perpetuating harmful stereotypes.', 4.666666666666667, 5.0), ('Jews have no place in a democratic society.', \"It's disappointing to hear such outdated stereotypes. Jews, like any other group, have individuals with varied characteristics and have made positive contributions throughout history.\", 5.0, 5.0), ('Im tired of woman taking part to political debate. Feminism is a divisive force in society.', \"Promoting discrimination against Muslims based on stereotypes only perpetuates harm and division. Let's reject hatred and embrace diversity and inclusion.\", 1.0, 2.0), ('Jews are subhuman, they steal our jobs, they tell us what to think, theyre worse than communists.', \"Homophobic remarks like this are harmful and discriminatory. Let's promote acceptance and respect for all individuals, regardless of sexual orientation.\", 1.0, 2.0), ('The feminists are dumb and unpleasant creatures, like womens rights activists.', 'Feminism advocates for equal rights and opportunities for all individuals, regardless of their gender.', 5.0, 5.0), ('Ive seen a couple of CCTV Footage of migrant kids running away from migrant patrols in London. What are you doing to stop them?', \"Those who propagate hateful stereotypes about Muslims are ignorant and dangerous. Let's confront and reject these prejudiced views.\", 1.0, 3.0)])\n",
      "Trial 1:\n",
      "Trial 2:\n",
      "Trial 3:\n",
      "Total candidates to evaluate: 2\n",
      "Evaluating on 10 datapoints\n"
     ]
    },
    {
     "name": "stderr",
     "output_type": "stream",
     "text": [
      "Getting Predictions: 10it [00:12,  1.25s/it]\n"
     ]
    },
    {
     "name": "stdout",
     "output_type": "stream",
     "text": [
      "Total candidates to evaluate: 2\n",
      "Evaluating on 10 datapoints\n"
     ]
    },
    {
     "name": "stderr",
     "output_type": "stream",
     "text": [
      "Getting Predictions: 10it [00:16,  1.66s/it]\n"
     ]
    },
    {
     "name": "stdout",
     "output_type": "stream",
     "text": [
      "Total candidates to evaluate: 2\n",
      "Evaluating on 10 datapoints\n"
     ]
    },
    {
     "name": "stderr",
     "output_type": "stream",
     "text": [
      "Getting Predictions: 10it [00:19,  1.95s/it]\n"
     ]
    },
    {
     "name": "stdout",
     "output_type": "stream",
     "text": [
      "Total candidates to evaluate: 2\n",
      "Evaluating on 10 datapoints\n"
     ]
    },
    {
     "name": "stderr",
     "output_type": "stream",
     "text": [
      "Getting Predictions: 10it [00:18,  1.83s/it]\n"
     ]
    },
    {
     "name": "stdout",
     "output_type": "stream",
     "text": [
      "Total candidates to evaluate: 2\n",
      "Evaluating on 10 datapoints\n"
     ]
    },
    {
     "name": "stderr",
     "output_type": "stream",
     "text": [
      "Getting Predictions: 10it [00:25,  2.59s/it]\n"
     ]
    },
    {
     "name": "stdout",
     "output_type": "stream",
     "text": [
      "Total candidates to evaluate: 2\n",
      "Evaluating on 10 datapoints\n"
     ]
    },
    {
     "name": "stderr",
     "output_type": "stream",
     "text": [
      "Getting Predictions: 10it [00:20,  2.03s/it]\n"
     ]
    },
    {
     "data": {
      "text/plain": [
       "(\" Evaluation Steps for Relevance of Counterspeeches (Refined):\\n\\n1. Identify the Central Topic or Theme: Comprehend the main focus of the hate speech, which could include specific groups (e.g., racial, ethnic, religious) or broader themes (e.g., cultural differences, national security, terrorism).\\n\\n2. Address the Central Topic: Evaluate if the counterspeech directly responds to the central topic or theme of the hate speech, offering a clear and direct challenge to its assumptions or providing a different perspective.\\n\\n3. Maintain Topic Relevance: Assess the degree to which the counterspeech's content is related to the central topic or theme of the hate speech. A high relevance score indicates a strong connection between the counterspeech and the central topic.\\n\\n4. Consider the Approach: Evaluate the approach taken by the counterspeech in addressing the central topic or theme. Effective counterspeeches often provide facts, refute stereotypes, promote empathy, and encourage understanding and inclusivity.\\n\\n5. Analyze Scope: Assess the scope of the counterspeech. A counterspeech that addresses the specific hate speech while also offering a broader perspective on the central topic or theme may receive a higher relevance score.\\n\\n6. Compare the Counterspeech to the Hate Speech: Compare the counterspeech to the hate speech in terms of length, tone, and content. A counterspeech that is proportionate in length and tone to the hate speech, and provides a clear and compelling response, is more likely to receive a higher relevance score.\\n\\n7. Evaluate Effectiveness: Consider the effectiveness of the counterspeech in countering the hate speech. A counterspeech that is well-reasoned, persuasive, and respectful is more likely to be considered relevant and effective.\\n\\n8. Assign a Relevance Score: Based on the evaluation criteria, assign a relevance score ranging from 1 (least relevant) to 5 (most relevant). A score of 5 indicates that the counterspeech directly and effectively addresses the central topic or theme of the hate speech, while a score of 1 indicates that the counterspeech is only loosely related to the central topic or theme or does not effectively counter the hate speech.\\n\\nError Examples:\\nHatespeech: Ive seen a couple of CCTV Footage of migrant kids running away from migrant patrols in London. What are you doing to stop them?\\nCounterspeech: Those who propagate hateful stereotypes about Muslims are ignorant and dangerous. Let's confront and reject these prejudiced views.\\nActual Rating (Relevance): 1.0\\nPredicted Rating (Relevance): 1.0\\n\\nHatespeech: Jews are subhuman, they steal our jobs, they tell us what to think, they're worse than communists.\\nCounterspeech: Homophobic remarks like this are harmful and discriminatory. Let's promote acceptance and respect for all individuals, regardless of sexual orientation.\\nActual Rating (Relevance): 1.0\\nPredicted Rating (Relevance): 1.0\\n\\nHatespeech: Muslim invasion is the biggest problem in Europe. They are incompatible with European culture and should be eliminated.\\nCounterspeech: Diversity enriches societies, and embracing different cultures and religions fosters understanding and tolerance.\\nActual Rating (Relevance): 5.0\\nPredicted Rating (Relevance): 5.0\",\n",
       " 0.7988238214596972,\n",
       " [('Jews are a burden on our society.',\n",
       "   'Your statement is not only offensive but also deeply rooted in anti-Semitism. It is important to recognize that such hateful rhetoric perpetuates harmful stereotypes and fuels discrimination. Jews have made significant contributions to society in various fields, including science, arts, and philanthropy. They have faced centuries of persecution and discrimination, and it is our responsibility to stand against such baseless hatred. Let us promote understanding, empathy, and respect for all individuals, regardless of their religious or ethnic background. Together, we can build a society that celebrates diversity and rejects bigotry.',\n",
       "   4.0,\n",
       "   5.0),\n",
       "  ('Immigrants are a threat to our culture.',\n",
       "   'How can you say that about a group of people who have historically been part of this country?',\n",
       "   5.0,\n",
       "   5.0),\n",
       "  ('Muslim invasion is the biggest problem in Europe. They are incompatible with European culture and should be eliminated.',\n",
       "   'Diversity enriches societies, and embracing different cultures and religions fosters understanding and tolerance.',\n",
       "   5.0,\n",
       "   5.0),\n",
       "  ('Islam is a violent religion and should be opposed.',\n",
       "   'Your statement that Islam is a violent religion and should be opposed is not only factually incorrect but also perpetuates harmful stereotypes and prejudices. It is essential to recognize that Islam, like any other religion, is a diverse and multifaceted faith followed by over 1.8 billion people worldwide.Labeling an entire religion as violent based on the actions of a few extremists is not only unfair but also dangerous. It is crucial to distinguish between the actions of individuals and the teachings of a religion. Islam, at its core, promotes peace, compassion, and justice.By making such sweeping generalizations, you are contributing to the marginalization and discrimination faced by Muslim communities. It is important to remember that Islamophobia, fueled by misinformation and prejudice, has real-life consequences for innocent individuals who are unfairly targeted and stigmatized.Instead of perpetuating hate and division, let us foster understanding and empathy. Engaging in dialogue and learning about different cultures and religions can help break down stereotypes and build bridges of mutual respect and tolerance.I urge you to reconsider your statement and educate yourself about the true teachings of Islam. Let us work towards a world where diversity is celebrated, and all individuals are treated with dignity and respect, regardless of their religious beliefs.',\n",
       "   3.0,\n",
       "   5.0),\n",
       "  ('Women have no place in a modern democracy like the UK.',\n",
       "   'Women have made significant contributions to the uk throughout history. for example, marie curie in the civil rights movement, ruth bader mchenkel in the womens rights movement and marie cus in the abolition of slavery. women have played pivotal roles in shaping the countrys history and culture. their achievements have shaped our society and its progress. it is essential to recognize and appreciate the achievements and contributions women have made, rather than perpetuating harmful stereotypes.',\n",
       "   4.666666666666667,\n",
       "   5.0),\n",
       "  ('Jews have no place in a democratic society.',\n",
       "   \"It's disappointing to hear such outdated stereotypes. Jews, like any other group, have individuals with varied characteristics and have made positive contributions throughout history.\",\n",
       "   5.0,\n",
       "   5.0),\n",
       "  ('Im tired of woman taking part to political debate. Feminism is a divisive force in society.',\n",
       "   \"Promoting discrimination against Muslims based on stereotypes only perpetuates harm and division. Let's reject hatred and embrace diversity and inclusion.\",\n",
       "   1.0,\n",
       "   1.0),\n",
       "  ('Jews are subhuman, they steal our jobs, they tell us what to think, theyre worse than communists.',\n",
       "   \"Homophobic remarks like this are harmful and discriminatory. Let's promote acceptance and respect for all individuals, regardless of sexual orientation.\",\n",
       "   1.0,\n",
       "   1.0),\n",
       "  ('The feminists are dumb and unpleasant creatures, like womens rights activists.',\n",
       "   'Feminism advocates for equal rights and opportunities for all individuals, regardless of their gender.',\n",
       "   5.0,\n",
       "   5.0),\n",
       "  ('Ive seen a couple of CCTV Footage of migrant kids running away from migrant patrols in London. What are you doing to stop them?',\n",
       "   \"Those who propagate hateful stereotypes about Muslims are ignorant and dangerous. Let's confront and reject these prejudiced views.\",\n",
       "   1.0,\n",
       "   1.0)])"
      ]
     },
     "execution_count": 23,
     "metadata": {},
     "output_type": "execute_result"
    }
   ],
   "source": [
    "def iterative_refinement_of_cot_candidate(candidate_cot, aspect) -> list[str]:\n",
    "    # Performs interative refinement of top candidate via self-assessement prompting, and returns topk candidates with highest correlation\n",
    "    exemplars = candidate_cot[2]\n",
    "    refinement_prompts = []\n",
    "    candidate_cot_set = []\n",
    "\n",
    "    # Number of Monte Carlo trials\n",
    "    num_trials = 3\n",
    "\n",
    "    # Few-shot exemplar size\n",
    "    few_shot_size = 3\n",
    "\n",
    "\n",
    "    for trial in range(num_trials):\n",
    "        print(f\"Trial {trial + 1}:\")\n",
    "\n",
    "        # Randomly sample few-shot examples from the golden set\n",
    "        sampled_examples = random.sample(exemplars, few_shot_size)\n",
    "\n",
    "        # Infer criteria based on sampled examples\n",
    "        hs1, cs1, r1, p1 = sampled_examples[0][0], sampled_examples[0][1], sampled_examples[0][2], sampled_examples[0][3]\n",
    "        hs2, cs2, r2, p2 = sampled_examples[1][0], sampled_examples[1][1], sampled_examples[1][2], sampled_examples[1][3]\n",
    "        hs3, cs3, r3, p3 = sampled_examples[2][0], sampled_examples[2][1], sampled_examples[2][2], sampled_examples[2][3]\n",
    "\n",
    "        few_shot_examples = cot_error_few_shot_tempate(aspect, hs1, cs1, r1, p1, hs2, cs2, r2, p2, hs3, cs3, r3, p3)\n",
    "        cot_refinement_prompt = candidate_cot_refinement_template(aspect, candidate_cot[0], few_shot_examples)\n",
    "        # print(cot_refinement_prompt)\n",
    "\n",
    "        refinement_prompts.append(cot_refinement_prompt)\n",
    "\n",
    "        candidate_cot_refined = predict(prompt=cot_refinement_prompt, system_description=\"\")\n",
    "        candidate_cot_refined = postprocess_llm_response(candidate_cot_refined)\n",
    "        candidate_cot_set.append(candidate_cot_refined)\n",
    "        \n",
    "    evaluated_candidates = [(candidate_cot, evaluate_candidate_cot(aspect, candidate_cot)[0], evaluate_candidate_cot(aspect, candidate_cot)[1]) for candidate_cot in candidate_cot_set]\n",
    "    evaluated_candidates.sort(key=lambda x: x[1], reverse=True)\n",
    "    top_candidate = evaluated_candidates[0]\n",
    "    return top_candidate\n",
    "\n",
    "\n",
    "top_candidates_refined = []\n",
    "for candidate_cot in top_candidates:\n",
    "    print(candidate_cot)\n",
    "    refined_cot_candidate = iterative_refinement_of_cot_candidate(candidate_cot, aspect)\n",
    "    top_candidates_refined.append(refined_cot_candidate)\n",
    "\n",
    "top_candidates_refined.sort(key=lambda x: x[1], reverse=True)\n",
    "top_candidates = top_candidates_refined[:topk]\n",
    "top_candidate_global = top_candidates_refined[0]\n",
    "top_candidate_global"
   ]
  }
 ],
 "metadata": {
  "kernelspec": {
   "display_name": "cs-eval",
   "language": "python",
   "name": "python3"
  },
  "language_info": {
   "codemirror_mode": {
    "name": "ipython",
    "version": 3
   },
   "file_extension": ".py",
   "mimetype": "text/x-python",
   "name": "python",
   "nbconvert_exporter": "python",
   "pygments_lexer": "ipython3",
   "version": "3.9.18"
  }
 },
 "nbformat": 4,
 "nbformat_minor": 2
}
